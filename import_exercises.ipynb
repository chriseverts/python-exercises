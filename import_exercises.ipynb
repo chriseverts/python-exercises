{
 "cells": [
  {
   "cell_type": "code",
   "execution_count": 15,
   "id": "86e2861b",
   "metadata": {},
   "outputs": [
    {
     "ename": "SyntaxError",
     "evalue": "invalid syntax (letter_grade_function.py, line 19)",
     "output_type": "error",
     "traceback": [
      "Traceback \u001b[0;36m(most recent call last)\u001b[0m:\n",
      "  File \u001b[1;32m\"/usr/local/anaconda3/lib/python3.8/site-packages/IPython/core/interactiveshell.py\"\u001b[0m, line \u001b[1;32m3437\u001b[0m, in \u001b[1;35mrun_code\u001b[0m\n    exec(code_obj, self.user_global_ns, self.user_ns)\n",
      "\u001b[0;36m  File \u001b[0;32m\"<ipython-input-15-8929ddc6d536>\"\u001b[0;36m, line \u001b[0;32m3\u001b[0;36m, in \u001b[0;35m<module>\u001b[0;36m\u001b[0m\n\u001b[0;31m    import letter_grade_function as lg\u001b[0m\n",
      "\u001b[0;36m  File \u001b[0;32m\"/Users/chris/codeup-data-science/python-exercises/letter_grade_function.py\"\u001b[0;36m, line \u001b[0;32m19\u001b[0m\n\u001b[0;31m    <<<<<<< HEAD\u001b[0m\n\u001b[0m    ^\u001b[0m\n\u001b[0;31mSyntaxError\u001b[0m\u001b[0;31m:\u001b[0m invalid syntax\n"
     ]
    }
   ],
   "source": [
    "##Use from to import the get_letter_grade function and give it an alias. Test this function in your notebook.\n",
    "\n",
    "import letter_grade_function as lg\n",
    "\n",
    "lg.get_letter_grade(90)\n",
    "\n",
    "\n",
    "\n",
    "\n",
    "\n",
    "\n"
   ]
  },
  {
   "cell_type": "code",
   "execution_count": null,
   "id": "65701e85",
   "metadata": {},
   "outputs": [],
   "source": []
  },
  {
   "cell_type": "code",
   "execution_count": null,
   "id": "00c74c6a",
   "metadata": {},
   "outputs": [],
   "source": []
  },
  {
   "cell_type": "code",
   "execution_count": 10,
   "id": "6d039f45",
   "metadata": {},
   "outputs": [
    {
     "name": "stdout",
     "output_type": "stream",
     "text": [
      "a\n",
      "b\n",
      "c\n",
      "1\n",
      "2\n",
      "3\n"
     ]
    }
   ],
   "source": [
    "##1.Read about and use the itertools module from the python standard library to help you solve the following problems:\n",
    "##a. How many different ways can you combine the letters from \"abc\" with the numbers 1, 2, and 3?\n",
    "\n",
    "import itertools\n",
    "\n",
    "st = \"abc123\"\n",
    "\n",
    "com = itertools.combinations(st,1)\n",
    "\n",
    "for val in com:\n",
    "    print(*val)\n",
    "\n",
    "\n",
    "\n",
    "\n"
   ]
  },
  {
   "cell_type": "code",
   "execution_count": 13,
   "id": "df77d71d",
   "metadata": {},
   "outputs": [
    {
     "name": "stdout",
     "output_type": "stream",
     "text": [
      "a b\n",
      "a c\n",
      "a d\n",
      "b c\n",
      "b d\n",
      "c d\n"
     ]
    }
   ],
   "source": [
    "##How many different combinations are there of 2 letters from \"abcd\"?\n",
    "\n",
    "import itertools\n",
    "\n",
    "st = \"abcd\"\n",
    "\n",
    "com = itertools.combinations(st,2)\n",
    "\n",
    "for val in com:\n",
    "    print(*val)\n"
   ]
  },
  {
   "cell_type": "code",
   "execution_count": 14,
   "id": "66ed345c",
   "metadata": {},
   "outputs": [
    {
     "name": "stdout",
     "output_type": "stream",
     "text": [
      "a b\n",
      "a c\n",
      "a d\n",
      "b a\n",
      "b c\n",
      "b d\n",
      "c a\n",
      "c b\n",
      "c d\n",
      "d a\n",
      "d b\n",
      "d c\n"
     ]
    }
   ],
   "source": [
    "##How many different permutations are there of 2 letters from \"abcd\"?\n",
    "\n",
    "\n",
    "import itertools\n",
    "\n",
    "st = \"abcd\"\n",
    "\n",
    "com = itertools.permutations(st,2)\n",
    "\n",
    "for val in com:\n",
    "    print(*val)\n",
    "\n",
    "\n",
    "\n",
    "\n",
    "\n"
   ]
  },
  {
   "cell_type": "code",
   "execution_count": null,
   "id": "d5592e37",
   "metadata": {},
   "outputs": [],
   "source": []
  }
 ],
 "metadata": {
  "kernelspec": {
   "display_name": "Python 3",
   "language": "python",
   "name": "python3"
  },
  "language_info": {
   "codemirror_mode": {
    "name": "ipython",
    "version": 3
   },
   "file_extension": ".py",
   "mimetype": "text/x-python",
   "name": "python",
   "nbconvert_exporter": "python",
   "pygments_lexer": "ipython3",
   "version": "3.8.8"
  }
 },
 "nbformat": 4,
 "nbformat_minor": 5
}

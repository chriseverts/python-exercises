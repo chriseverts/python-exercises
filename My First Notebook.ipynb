{
 "cells": [
  {
   "cell_type": "markdown",
   "id": "d175a39a",
   "metadata": {},
   "source": [
    "command F = find\n",
    "command x = cut\n",
    "command c = copy"
   ]
  },
  {
   "cell_type": "code",
   "execution_count": 1,
   "id": "c7e490d5",
   "metadata": {},
   "outputs": [
    {
     "data": {
      "text/plain": [
       "4"
      ]
     },
     "execution_count": 1,
     "metadata": {},
     "output_type": "execute_result"
    }
   ],
   "source": [
    "2+2"
   ]
  },
  {
   "cell_type": "code",
   "execution_count": 2,
   "id": "3dc3bb82",
   "metadata": {},
   "outputs": [
    {
     "data": {
      "text/plain": [
       "8"
      ]
     },
     "execution_count": 2,
     "metadata": {},
     "output_type": "execute_result"
    }
   ],
   "source": [
    "3+5"
   ]
  },
  {
   "cell_type": "code",
   "execution_count": 3,
   "id": "9e68f408",
   "metadata": {},
   "outputs": [
    {
     "name": "stdout",
     "output_type": "stream",
     "text": [
      "rowdy\n"
     ]
    }
   ],
   "source": [
    "message = 'rowdy'\n",
    "print(message)"
   ]
  },
  {
   "cell_type": "code",
   "execution_count": 7,
   "id": "83184d17",
   "metadata": {},
   "outputs": [],
   "source": [
    "fruits = ['mango', 'kiwi', 'strawberry', 'guava', 'pineapple', 'mandarin orange']\n",
    "uppercase_fruits = [fruit.upper() for fruit in fruits]\n"
   ]
  },
  {
   "cell_type": "code",
   "execution_count": 16,
   "id": "18324ff4",
   "metadata": {},
   "outputs": [
    {
     "name": "stdout",
     "output_type": "stream",
     "text": [
      "Please enter a sentanceI hate donuts\n",
      "I Hate Donuts\n"
     ]
    }
   ],
   "source": [
    "user = input(\"Please enter a sentance\")\n",
    "\n",
    "print(user.title())\n",
    "\n"
   ]
  },
  {
   "cell_type": "code",
   "execution_count": 30,
   "id": "8ce74c43",
   "metadata": {},
   "outputs": [
    {
     "data": {
      "text/plain": [
       "<function __main__.calculateTip(total_cost, tip)>"
      ]
     },
     "execution_count": 30,
     "metadata": {},
     "output_type": "execute_result"
    }
   ],
   "source": [
    "def calculateTip(total_cost,tip):\n",
    "        total_cost = 20\n",
    "        tip = 1  \n",
    "        new_total = (total_cost * tip) / 100 + total_cost\n",
    "        return new_total\n",
    "\n",
    "\n",
    "\n"
   ]
  },
  {
   "cell_type": "code",
   "execution_count": 31,
   "id": "898898a1",
   "metadata": {},
   "outputs": [],
   "source": [
    "\n",
    "\n",
    "\n",
    "def apply_discount(a,b):\n",
    "    discount = b - a\n",
    "    dispercent = (discount/b) *100\n",
    "    total_price = (b * dispercent) - b\n",
    "    return total_price\n",
    "    \n",
    "    \n",
    "    \n",
    "    \n",
    "    \n",
    "\n",
    "\n",
    "\n",
    "\n",
    "\n",
    "\n",
    "\n"
   ]
  },
  {
   "cell_type": "code",
   "execution_count": null,
   "id": "28b9de0c",
   "metadata": {},
   "outputs": [],
   "source": [
    "def handle_commas(b):\n",
    "    return float(b.replace(\",\", \"\"))\n",
    "    \n",
    "    \n",
    "    \n",
    "    \n",
    "    "
   ]
  },
  {
   "cell_type": "code",
   "execution_count": 36,
   "id": "d619312f",
   "metadata": {},
   "outputs": [
    {
     "name": "stdout",
     "output_type": "stream",
     "text": [
      "Enter any string: i love donuts\n"
     ]
    },
    {
     "data": {
      "text/plain": [
       "' lv dnts'"
      ]
     },
     "execution_count": 36,
     "metadata": {},
     "output_type": "execute_result"
    }
   ],
   "source": [
    "\n",
    "string = input(\"Enter any string: \")\n",
    "def remove_vowels(c):\n",
    "    newstr = c\n",
    "    vowels = ('a', 'e', 'i', 'o', 'u')\n",
    "    for x in c.lower():\n",
    "        if x in vowels:\n",
    "            newstr = newstr.replace(x,\"\")\n",
    "\n",
    "    return newstr\n",
    "remove_vowels(string)"
   ]
  },
  {
   "cell_type": "code",
   "execution_count": 45,
   "id": "6dd7cdc9",
   "metadata": {},
   "outputs": [
    {
     "ename": "NameError",
     "evalue": "name 'cu_list' is not defined",
     "output_type": "error",
     "traceback": [
      "\u001b[0;31m---------------------------------------------------------------------------\u001b[0m",
      "\u001b[0;31mNameError\u001b[0m                                 Traceback (most recent call last)",
      "\u001b[0;32m<ipython-input-45-b6d935a7fa00>\u001b[0m in \u001b[0;36m<module>\u001b[0;34m\u001b[0m\n\u001b[1;32m      8\u001b[0m \u001b[0mlists\u001b[0m \u001b[0;34m=\u001b[0m \u001b[0;34m(\u001b[0m\u001b[0;36m1\u001b[0m\u001b[0;34m,\u001b[0m\u001b[0;36m2\u001b[0m\u001b[0;34m,\u001b[0m\u001b[0;36m3\u001b[0m\u001b[0;34m,\u001b[0m\u001b[0;36m4\u001b[0m\u001b[0;34m,\u001b[0m\u001b[0;36m5\u001b[0m\u001b[0;34m)\u001b[0m\u001b[0;34m\u001b[0m\u001b[0;34m\u001b[0m\u001b[0m\n\u001b[1;32m      9\u001b[0m \u001b[0;34m\u001b[0m\u001b[0m\n\u001b[0;32m---> 10\u001b[0;31m \u001b[0mcumulative_sum\u001b[0m\u001b[0;34m(\u001b[0m\u001b[0mcu_list\u001b[0m\u001b[0;34m)\u001b[0m\u001b[0;34m\u001b[0m\u001b[0;34m\u001b[0m\u001b[0m\n\u001b[0m",
      "\u001b[0;31mNameError\u001b[0m: name 'cu_list' is not defined"
     ]
    }
   ],
   "source": [
    "def cumulative_sum(lists):\n",
    "    cu_list = []\n",
    "    length = len(lists)\n",
    "    cu_list = sum(lists[0:x:1]) \n",
    "    for x in range(0, length+1):\n",
    "            return cu_list[1:]\n",
    "\n",
    "\n"
   ]
  },
  {
   "cell_type": "code",
   "execution_count": null,
   "id": "e204ccd3",
   "metadata": {},
   "outputs": [],
   "source": []
  }
 ],
 "metadata": {
  "kernelspec": {
   "display_name": "Python 3",
   "language": "python",
   "name": "python3"
  },
  "language_info": {
   "codemirror_mode": {
    "name": "ipython",
    "version": 3
   },
   "file_extension": ".py",
   "mimetype": "text/x-python",
   "name": "python",
   "nbconvert_exporter": "python",
   "pygments_lexer": "ipython3",
   "version": "3.8.8"
  }
 },
 "nbformat": 4,
 "nbformat_minor": 5
}
